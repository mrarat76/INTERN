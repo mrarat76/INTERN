{
 "cells": [
  {
   "cell_type": "code",
   "execution_count": 9,
   "id": "a6075642-ab60-42c4-ae58-3e441246192e",
   "metadata": {},
   "outputs": [
    {
     "name": "stdout",
     "output_type": "stream",
     "text": [
      "Requirement already satisfied: gcloud in ./anaconda3/envs/myev/lib/python3.10/site-packages (0.18.3)\n",
      "Requirement already satisfied: httplib2>=0.9.1 in ./anaconda3/envs/myev/lib/python3.10/site-packages (from gcloud) (0.22.0)\n",
      "Requirement already satisfied: googleapis-common-protos in ./anaconda3/envs/myev/lib/python3.10/site-packages (from gcloud) (1.62.0)\n",
      "Requirement already satisfied: oauth2client>=2.0.1 in ./anaconda3/envs/myev/lib/python3.10/site-packages (from gcloud) (4.1.3)\n",
      "Requirement already satisfied: protobuf!=3.0.0.b2.post1,>=3.0.0b2 in ./anaconda3/envs/myev/lib/python3.10/site-packages (from gcloud) (3.20.3)\n",
      "Requirement already satisfied: six in ./anaconda3/envs/myev/lib/python3.10/site-packages (from gcloud) (1.16.0)\n",
      "Requirement already satisfied: pyparsing!=3.0.0,!=3.0.1,!=3.0.2,!=3.0.3,<4,>=2.4.2 in ./anaconda3/envs/myev/lib/python3.10/site-packages (from httplib2>=0.9.1->gcloud) (3.0.9)\n",
      "Requirement already satisfied: pyasn1>=0.1.7 in ./anaconda3/envs/myev/lib/python3.10/site-packages (from oauth2client>=2.0.1->gcloud) (0.4.8)\n",
      "Requirement already satisfied: pyasn1-modules>=0.0.5 in ./anaconda3/envs/myev/lib/python3.10/site-packages (from oauth2client>=2.0.1->gcloud) (0.2.8)\n",
      "Requirement already satisfied: rsa>=3.1.4 in ./anaconda3/envs/myev/lib/python3.10/site-packages (from oauth2client>=2.0.1->gcloud) (4.7.2)\n",
      "Welcome to the Google Cloud CLI!\n",
      "\n",
      "To help improve the quality of this product, we collect anonymized usage data\n",
      "and anonymized stacktraces when crashes are encountered; additional information\n",
      "is available at <https://cloud.google.com/sdk/usage-statistics>. This data is\n",
      "handled in accordance with our privacy policy\n",
      "<https://cloud.google.com/terms/cloud-privacy-notice>. You may choose to opt in this\n",
      "collection now (by choosing 'Y' at the below prompt), or at any time in the\n",
      "future by running the following command:\n",
      "\n",
      "    gcloud config set disable_usage_reporting false\n",
      "\n",
      "Do you want to help improve the Google Cloud CLI (y/N)?  \n",
      "\n",
      "Your current Google Cloud CLI version is: 421.0.0\n",
      "The latest available version is: 490.0.0\n",
      "\n",
      "┌────────────────────────────────────────────────────────────────────────────────────────────────────────────────────┐\n",
      "│                                                     Components                                                     │\n",
      "├──────────────────┬──────────────────────────────────────────────────────┬──────────────────────────────┬───────────┤\n",
      "│      Status      │                         Name                         │              ID              │    Size   │\n",
      "├──────────────────┼──────────────────────────────────────────────────────┼──────────────────────────────┼───────────┤\n",
      "│ Update Available │ BigQuery Command Line Tool                           │ bq                           │   1.7 MiB │\n",
      "│ Update Available │ Cloud Storage Command Line Tool                      │ gsutil                       │  11.3 MiB │\n",
      "│ Update Available │ Google Cloud CLI Core Libraries                      │ core                         │  19.5 MiB │\n",
      "│ Not Installed    │ App Engine Go Extensions                             │ app-engine-go                │   4.5 MiB │\n",
      "│ Not Installed    │ Appctl                                               │ appctl                       │  18.5 MiB │\n",
      "│ Not Installed    │ Artifact Registry Go Module Package Helper           │ package-go-module            │   < 1 MiB │\n",
      "│ Not Installed    │ Cloud Bigtable Command Line Tool                     │ cbt                          │  17.9 MiB │\n",
      "│ Not Installed    │ Cloud Bigtable Emulator                              │ bigtable                     │   7.0 MiB │\n",
      "│ Not Installed    │ Cloud Datastore Emulator                             │ cloud-datastore-emulator     │  36.2 MiB │\n",
      "│ Not Installed    │ Cloud Firestore Emulator                             │ cloud-firestore-emulator     │  46.3 MiB │\n",
      "│ Not Installed    │ Cloud Pub/Sub Emulator                               │ pubsub-emulator              │  63.7 MiB │\n",
      "│ Not Installed    │ Cloud Run Proxy                                      │ cloud-run-proxy              │  11.3 MiB │\n",
      "│ Not Installed    │ Cloud SQL Proxy v2                                   │ cloud-sql-proxy              │  13.2 MiB │\n",
      "│ Not Installed    │ Google Container Registry's Docker credential helper │ docker-credential-gcr        │           │\n",
      "│ Not Installed    │ Kustomize                                            │ kustomize                    │   7.4 MiB │\n",
      "│ Not Installed    │ Log Streaming                                        │ log-streaming                │  11.9 MiB │\n",
      "│ Not Installed    │ Minikube                                             │ minikube                     │  34.8 MiB │\n",
      "│ Not Installed    │ Nomos CLI                                            │ nomos                        │  30.1 MiB │\n",
      "│ Not Installed    │ On-Demand Scanning API extraction helper             │ local-extract                │  19.9 MiB │\n",
      "│ Not Installed    │ Skaffold                                             │ skaffold                     │  22.9 MiB │\n",
      "│ Not Installed    │ Terraform Tools                                      │ terraform-tools              │  63.6 MiB │\n",
      "│ Not Installed    │ anthos-auth                                          │ anthos-auth                  │  20.9 MiB │\n",
      "│ Not Installed    │ config-connector                                     │ config-connector             │  88.7 MiB │\n",
      "│ Not Installed    │ enterprise-certificate-proxy                         │ enterprise-certificate-proxy │   8.3 MiB │\n",
      "│ Not Installed    │ gcloud Alpha Commands                                │ alpha                        │   < 1 MiB │\n",
      "│ Not Installed    │ gcloud Beta Commands                                 │ beta                         │   < 1 MiB │\n",
      "│ Not Installed    │ gcloud app Java Extensions                           │ app-engine-java              │ 127.8 MiB │\n",
      "│ Not Installed    │ gcloud app Python Extensions                         │ app-engine-python            │   5.0 MiB │\n",
      "│ Not Installed    │ gcloud app Python Extensions (Extra Libraries)       │ app-engine-python-extras     │   < 1 MiB │\n",
      "│ Not Installed    │ gke-gcloud-auth-plugin                               │ gke-gcloud-auth-plugin       │   4.0 MiB │\n",
      "│ Not Installed    │ istioctl                                             │ istioctl                     │  24.8 MiB │\n",
      "│ Not Installed    │ kpt                                                  │ kpt                          │  13.8 MiB │\n",
      "│ Not Installed    │ kubectl                                              │ kubectl                      │   < 1 MiB │\n",
      "│ Not Installed    │ kubectl-oidc                                         │ kubectl-oidc                 │  20.9 MiB │\n",
      "│ Not Installed    │ pkg                                                  │ pkg                          │           │\n",
      "│ Installed        │ Google Cloud CRC32C Hash Tool                        │ gcloud-crc32c                │   1.2 MiB │\n",
      "└──────────────────┴──────────────────────────────────────────────────────┴──────────────────────────────┴───────────┘\n",
      "To install or remove components at your current SDK version [421.0.0], run:\n",
      "  $ gcloud components install COMPONENT_ID\n",
      "  $ gcloud components remove COMPONENT_ID\n",
      "\n",
      "To update your SDK installation to the latest version [490.0.0], run:\n",
      "  $ gcloud components update\n",
      "\n",
      "==> Source [/Users/mehdiarat/google-cloud-sdk/completion.zsh.inc] in your profile to enable shell command completion for gcloud.\n",
      "==> Source [/Users/mehdiarat/google-cloud-sdk/path.zsh.inc] in your profile to add the Google Cloud SDK command line tools to your $PATH.\n",
      "\n",
      "For more information on how to get started, please visit:\n",
      "  https://cloud.google.com/sdk/docs/quickstarts\n",
      "\n",
      "\n"
     ]
    }
   ],
   "source": [
    "!pip install gcloud\n",
    "!echo \"y\" | ./google-cloud-sdk/install.sh"
   ]
  },
  {
   "cell_type": "code",
   "execution_count": 10,
   "id": "f3daa858-f22c-4c86-bac5-f307d2faff87",
   "metadata": {
    "scrolled": true
   },
   "outputs": [],
   "source": [
    "!source ~/.zshrc"
   ]
  },
  {
   "cell_type": "code",
   "execution_count": 13,
   "id": "13bcfae0-fb92-4f58-ad6a-a7b0542b90de",
   "metadata": {},
   "outputs": [
    {
     "name": "stdout",
     "output_type": "stream",
     "text": [
      "Welcome! This command will take you through the configuration of gcloud.\n",
      "\n",
      "Settings from your current configuration [default] are:\n",
      "core:\n",
      "  account: mirac1200@gmail.com\n",
      "  disable_usage_reporting: 'False'\n",
      "\n",
      "Pick configuration to use:\n",
      " [1] Re-initialize this configuration [default] with new settings \n",
      " [2] Create a new configuration\n",
      "Please enter your numeric choice:  ^C\n",
      "\n",
      "\n",
      "Command killed by keyboard interrupt\n",
      "\n"
     ]
    }
   ],
   "source": [
    "!gcloud init"
   ]
  },
  {
   "cell_type": "code",
   "execution_count": 14,
   "id": "0c36e760-5956-4e22-931c-73ba9c3ec05a",
   "metadata": {},
   "outputs": [
    {
     "name": "stdout",
     "output_type": "stream",
     "text": [
      "Your browser has been opened to visit:\n",
      "\n",
      "    https://accounts.google.com/o/oauth2/auth?response_type=code&client_id=32555940559.apps.googleusercontent.com&redirect_uri=http%3A%2F%2Flocalhost%3A8085%2F&scope=openid+https%3A%2F%2Fwww.googleapis.com%2Fauth%2Fuserinfo.email+https%3A%2F%2Fwww.googleapis.com%2Fauth%2Fcloud-platform+https%3A%2F%2Fwww.googleapis.com%2Fauth%2Fappengine.admin+https%3A%2F%2Fwww.googleapis.com%2Fauth%2Fsqlservice.login+https%3A%2F%2Fwww.googleapis.com%2Fauth%2Fcompute+https%3A%2F%2Fwww.googleapis.com%2Fauth%2Faccounts.reauth&state=Qi6xtljudvgClh1HcBdqXFn1DRUN0g&access_type=offline&code_challenge=B9Q9Z_OgCHc0uyKaI9Qiqd7tlD3gAWcpjl56PXz5vGQ&code_challenge_method=S256\n",
      "\n",
      "\n",
      "You are now logged in as [mirac1200@gmail.com].\n",
      "Your current project is [None].  You can change this setting by running:\n",
      "  $ gcloud config set project PROJECT_ID\n",
      "Your browser has been opened to visit:\n",
      "\n",
      "    https://accounts.google.com/o/oauth2/auth?response_type=code&client_id=764086051850-6qr4p6gpi6hn506pt8ejuq83di341hur.apps.googleusercontent.com&redirect_uri=http%3A%2F%2Flocalhost%3A8085%2F&scope=openid+https%3A%2F%2Fwww.googleapis.com%2Fauth%2Fuserinfo.email+https%3A%2F%2Fwww.googleapis.com%2Fauth%2Fcloud-platform+https%3A%2F%2Fwww.googleapis.com%2Fauth%2Fsqlservice.login+https%3A%2F%2Fwww.googleapis.com%2Fauth%2Faccounts.reauth&state=QBi2t3L0poNxzIP5V8iqie6ZFNOzpN&access_type=offline&code_challenge=-waPkJNztcwtgLJss1ITEFClXfs-lzID6GqIjCktBGw&code_challenge_method=S256\n",
      "\n",
      "\n",
      "Credentials saved to file: [/Users/mehdiarat/.config/gcloud/application_default_credentials.json]\n",
      "\n",
      "These credentials will be used by any library that requests Application Default Credentials (ADC).\n",
      "\u001b[1;33mWARNING:\u001b[0m \n",
      "Cannot find a quota project to add to ADC. You might receive a \"quota exceeded\" or \"API not enabled\" error. Run $ gcloud auth application-default set-quota-project to add a quota project.\n"
     ]
    }
   ],
   "source": [
    "!gcloud auth login\n",
    "!gcloud auth application-default login"
   ]
  },
  {
   "cell_type": "code",
   "execution_count": 12,
   "id": "5db6d975-0d0e-4c7e-b583-ee5c511483be",
   "metadata": {},
   "outputs": [],
   "source": [
    "import os\n",
    "os.environ['PATH'] += os.pathsep + \"/Users/mehdiarat/google-cloud-sdk/bin\""
   ]
  },
  {
   "cell_type": "code",
   "execution_count": 16,
   "id": "4bcabe1d-4007-4d77-b2c8-62bfa48cc3fe",
   "metadata": {},
   "outputs": [
    {
     "name": "stdout",
     "output_type": "stream",
     "text": [
      "Requirement already satisfied: retrying in ./anaconda3/envs/myev/lib/python3.10/site-packages (1.3.4)\n",
      "Requirement already satisfied: six>=1.7.0 in ./anaconda3/envs/myev/lib/python3.10/site-packages (from retrying) (1.16.0)\n",
      "Requirement already satisfied: google-auth in ./anaconda3/envs/myev/lib/python3.10/site-packages (2.6.0)\n",
      "Requirement already satisfied: cachetools<6.0,>=2.0.0 in ./anaconda3/envs/myev/lib/python3.10/site-packages (from google-auth) (4.2.2)\n",
      "Requirement already satisfied: pyasn1-modules>=0.2.1 in ./anaconda3/envs/myev/lib/python3.10/site-packages (from google-auth) (0.2.8)\n",
      "Requirement already satisfied: six>=1.9.0 in ./anaconda3/envs/myev/lib/python3.10/site-packages (from google-auth) (1.16.0)\n",
      "Requirement already satisfied: rsa<5,>=3.1.4 in ./anaconda3/envs/myev/lib/python3.10/site-packages (from google-auth) (4.7.2)\n",
      "Requirement already satisfied: pyasn1<0.5.0,>=0.4.6 in ./anaconda3/envs/myev/lib/python3.10/site-packages (from pyasn1-modules>=0.2.1->google-auth) (0.4.8)\n"
     ]
    }
   ],
   "source": [
    "!pip install retrying\n",
    "!pip install google-auth"
   ]
  },
  {
   "cell_type": "code",
   "execution_count": 21,
   "id": "a7adc16e-4935-483d-8ce9-7eccc65492ea",
   "metadata": {},
   "outputs": [
    {
     "name": "stdout",
     "output_type": "stream",
     "text": [
      "Creating gs://mirac1200-siim-bucket-dicom/...\n"
     ]
    }
   ],
   "source": [
    "MY_PROJECT=\"theproject2-403712\"\n",
    "BUCKET=\"gs://mirac1200-siim-bucket-dicom\"\n",
    "!gsutil mb -p {MY_PROJECT} -c regional -l us-central1 -b on {BUCKET}"
   ]
  },
  {
   "cell_type": "code",
   "execution_count": 28,
   "id": "fbdb8269-38a7-41f6-8567-4943a8e75279",
   "metadata": {},
   "outputs": [
    {
     "name": "stderr",
     "output_type": "stream",
     "text": [
      "  % Total    % Received % Xferd  Average Speed   Time    Time     Time  Current\n",
      "                                 Dload  Upload   Total   Spent    Left  Speed\n",
      "  0     0    0     0    0     0      0      0 --:--:-- --:--:-- --:--:--     0"
     ]
    },
    {
     "name": "stdout",
     "output_type": "stream",
     "text": [
      "{\n",
      "  \"error\": {\n",
      "    \"code\": 403,\n",
      "    \"message\": \"Permission denied on resource project kaggle-siim-healthcare.\",\n",
      "    \"status\": \"PERMISSION_DENIED\",\n",
      "    \"details\": [\n",
      "      {\n",
      "        \"@type\": \"type.googleapis.com/google.rpc.Help\",\n",
      "        \"links\": [\n",
      "          {\n",
      "            \"description\": \"Google developers console\",\n",
      "            \"url\": \"https://console.developers.google.com\"\n",
      "          }\n",
      "        ]\n",
      "      },\n",
      "      {\n",
      "        \"@type\": \"type.googleapis.com/google.rpc.ErrorInfo\",\n",
      "        \"reason\": \"CONSUMER_INVALID\",\n",
      "        \"domain\": \"googleapis.com\",\n",
      "        \"metadata\": {\n",
      "          \"consumer\": \"projects/kaggle-siim-healthcare\",\n",
      "          \"service\": \"healthcare.googleapis.com\"\n",
      "        }\n",
      "      }\n",
      "    ]\n",
      "  }\n",
      "}\n"
     ]
    },
    {
     "name": "stderr",
     "output_type": "stream",
     "text": [
      "100   801  100   706  100    95    623     83  0:00:01  0:00:01 --:--:--   706\n"
     ]
    },
    {
     "data": {
      "text/plain": [
       "0"
      ]
     },
     "execution_count": 28,
     "metadata": {},
     "output_type": "execute_result"
    }
   ],
   "source": [
    "import os\n",
    "\n",
    "PROJECT_ID = \"kaggle-siim-healthcare\"\n",
    "REGION = \"us-central1\"\n",
    "DATASET_ID = \"siim-pneumothorax\"\n",
    "DICOM_STORE_ID = \"dicom-images-train\"\n",
    "DIRECTORY = \"train-3\"\n",
    "\n",
    "# Use triple quotes for multi-line strings\n",
    "curl_command = f\"\"\"\n",
    "curl -X POST \\\n",
    "-H \"Authorization: Bearer $(gcloud auth print-access-token)\" \\\n",
    "-H \"Content-Type: application/json; charset=utf-8\" \\\n",
    "--data '{{\n",
    "  \"gcsDestination\": {{\n",
    "    \"uriPrefix\": \"gs://{BUCKET}/{DIRECTORY}\"\n",
    "  }}\n",
    "}}' \\\n",
    "\"https://healthcare.googleapis.com/v1beta1/projects/{PROJECT_ID}/locations/{REGION}/datasets/{DATASET_ID}/dicomStores/{DICOM_STORE_ID}:export\"\n",
    "\"\"\"\n",
    "\n",
    "# Execute the curl command\n",
    "os.system(curl_command)"
   ]
  },
  {
   "cell_type": "code",
   "execution_count": 26,
   "id": "1f5b14cc-0fab-49a1-bf6d-820f4f9d4991",
   "metadata": {},
   "outputs": [
    {
     "name": "stderr",
     "output_type": "stream",
     "text": [
      "  % Total    % Received % Xferd  Average Speed   Time    Time     Time  Current\n",
      "                                 Dload  Upload   Total   Spent    Left  Speed\n",
      "  0     0    0     0    0     0      0      0 --:--:-- --:--:-- --:--:--     0"
     ]
    },
    {
     "name": "stdout",
     "output_type": "stream",
     "text": [
      "{\n",
      "  \"error\": {\n",
      "    \"code\": 403,\n",
      "    \"message\": \"Permission denied on resource project kaggle-siim-healthcare.\",\n",
      "    \"status\": \"PERMISSION_DENIED\",\n",
      "    \"details\": [\n",
      "      {\n",
      "        \"@type\": \"type.googleapis.com/google.rpc.Help\",\n",
      "        \"links\": [\n",
      "          {\n",
      "            \"description\": \"Google developers console\",\n",
      "            \"url\": \"https://console.developers.google.com\"\n",
      "          }\n",
      "        ]\n",
      "      },\n",
      "      {\n",
      "        \"@type\": \"type.googleapis.com/google.rpc.ErrorInfo\",\n",
      "        \"reason\": \"CONSUMER_INVALID\",\n",
      "        \"domain\": \"googleapis.com\",\n",
      "        \"metadata\": {\n",
      "          \"service\": \"healthcare.googleapis.com\",\n",
      "          \"consumer\": \"projects/kaggle-siim-healthcare\"\n",
      "        }\n",
      "      }\n",
      "    ]\n",
      "  }\n",
      "}\n"
     ]
    },
    {
     "name": "stderr",
     "output_type": "stream",
     "text": [
      "100   795  100   706  100    89    581     73  0:00:01  0:00:01 --:--:--   654\n"
     ]
    },
    {
     "data": {
      "text/plain": [
       "0"
      ]
     },
     "execution_count": 26,
     "metadata": {},
     "output_type": "execute_result"
    }
   ],
   "source": [
    "import os\n",
    "\n",
    "# Komutun çalıştırılması\n",
    "os.system(curl_command)\n"
   ]
  },
  {
   "cell_type": "code",
   "execution_count": 29,
   "id": "ee5019b4-8ab5-4f8b-b973-a5eddd4bf983",
   "metadata": {},
   "outputs": [
    {
     "name": "stderr",
     "output_type": "stream",
     "text": [
      "/Users/mehdiarat/anaconda3/envs/myev/lib/python3.10/site-packages/google/auth/_default.py:79: UserWarning: Your application has authenticated using end user credentials from Google Cloud SDK without a quota project. You might receive a \"quota exceeded\" or \"API not enabled\" error. We recommend you rerun `gcloud auth application-default login` and make sure a quota project is added. Or you can use service accounts instead. For more information about service accounts, see https://cloud.google.com/docs/authentication/\n",
      "  warnings.warn(_CLOUD_SDK_CREDENTIALS_WARNING)\n"
     ]
    },
    {
     "name": "stdout",
     "output_type": "stream",
     "text": [
      "Downloading all instances in dicom-images-train DICOM store\n",
      "[{\n",
      "  \"error\": {\n",
      "    \"code\": 403,\n",
      "    \"message\": \"Permission denied on resource project kaggle-siim-healthcare.\",\n",
      "    \"status\": \"PERMISSION_DENIED\",\n",
      "    \"details\": [\n",
      "      {\n",
      "        \"@type\": \"type.googleapis.com/google.rpc.Help\",\n",
      "        \"links\": [\n",
      "          {\n",
      "            \"description\": \"Google developers console\",\n",
      "            \"url\": \"https://console.developers.google.com\"\n",
      "          }\n",
      "        ]\n",
      "      },\n",
      "      {\n",
      "        \"@type\": \"type.googleapis.com/google.rpc.ErrorInfo\",\n",
      "        \"reason\": \"CONSUMER_INVALID\",\n",
      "        \"domain\": \"googleapis.com\",\n",
      "        \"metadata\": {\n",
      "          \"service\": \"healthcare.googleapis.com\",\n",
      "          \"consumer\": \"projects/kaggle-siim-healthcare\"\n",
      "        }\n",
      "      }\n",
      "    ]\n",
      "  }\n",
      "}\n",
      "]\n",
      "Downloading all instances in dicom-images-test DICOM store\n",
      "[{\n",
      "  \"error\": {\n",
      "    \"code\": 403,\n",
      "    \"message\": \"Permission denied on resource project kaggle-siim-healthcare.\",\n",
      "    \"status\": \"PERMISSION_DENIED\",\n",
      "    \"details\": [\n",
      "      {\n",
      "        \"@type\": \"type.googleapis.com/google.rpc.Help\",\n",
      "        \"links\": [\n",
      "          {\n",
      "            \"description\": \"Google developers console\",\n",
      "            \"url\": \"https://console.developers.google.com\"\n",
      "          }\n",
      "        ]\n",
      "      },\n",
      "      {\n",
      "        \"@type\": \"type.googleapis.com/google.rpc.ErrorInfo\",\n",
      "        \"reason\": \"CONSUMER_INVALID\",\n",
      "        \"domain\": \"googleapis.com\",\n",
      "        \"metadata\": {\n",
      "          \"service\": \"healthcare.googleapis.com\",\n",
      "          \"consumer\": \"projects/kaggle-siim-healthcare\"\n",
      "        }\n",
      "      }\n",
      "    ]\n",
      "  }\n",
      "}\n",
      "]\n"
     ]
    }
   ],
   "source": [
    "\n",
    "\"\"\"Script to download all instances in a DICOM Store.\"\"\"\n",
    "import os\n",
    "import posixpath\n",
    "from concurrent import futures\n",
    "from retrying import retry\n",
    "import google.auth\n",
    "from google.auth.transport.requests import AuthorizedSession\n",
    "\n",
    "# URL of CHC API\n",
    "CHC_API_URL = 'https://healthcare.googleapis.com/v1beta1'\n",
    "PROJECT_ID = 'kaggle-siim-healthcare'\n",
    "REGION = 'us-central1'\n",
    "DATASET_ID = 'siim-pneumothorax'\n",
    "TRAIN_DICOM_STORE_ID = 'dicom-images-train'\n",
    "TEST_DICOM_STORE_ID = 'dicom-images-test'\n",
    "\n",
    "\n",
    "@retry(wait_exponential_multiplier=1000, wait_exponential_max=10000)\n",
    "def download_instance(dicom_web_url, dicom_store_id, study_uid, series_uid,\n",
    "                      instance_uid, credentials):\n",
    "    \"\"\"Downloads a DICOM instance and saves it under the current folder.\"\"\"\n",
    "    instance_url = posixpath.join(dicom_web_url, 'studies', study_uid, 'series',\n",
    "                                  series_uid, 'instances', instance_uid)\n",
    "    authed_session = AuthorizedSession(credentials)\n",
    "    response = authed_session.get(\n",
    "        instance_url, headers={'Accept': 'application/dicom; transfer-syntax=*'})\n",
    "    file_path = posixpath.join(dicom_store_id, study_uid, series_uid,\n",
    "                               instance_uid)\n",
    "    filename = '%s.dcm' % file_path\n",
    "    if not os.path.exists(filename):\n",
    "        os.makedirs(os.path.dirname(filename))\n",
    "    with open(filename, 'wb') as f:\n",
    "        f.write(response.content)\n",
    "\n",
    "\n",
    "def download_all_instances(dicom_store_id, credentials):\n",
    "    \"\"\"Downloads all DICOM instances in the specified DICOM store.\"\"\"\n",
    "    # Get a list of all instances.\n",
    "    dicom_web_url = posixpath.join(CHC_API_URL, 'projects', PROJECT_ID,\n",
    "                                   'locations', REGION, 'datasets', DATASET_ID,\n",
    "                                   'dicomStores', dicom_store_id, 'dicomWeb')\n",
    "    qido_url = posixpath.join(dicom_web_url, 'instances')\n",
    "    authed_session = AuthorizedSession(credentials)\n",
    "    response = authed_session.get(qido_url, params={'limit': '15000'})\n",
    "    if response.status_code != 200:\n",
    "        print(response.text)\n",
    "        return\n",
    "    content = response.json()\n",
    "    # DICOM Tag numbers\n",
    "    study_instance_uid_tag = '0020000D'\n",
    "    series_instance_uid_tag = '0020000E'\n",
    "    sop_instance_uid_tag = '00080018'\n",
    "    value_key = 'Value'\n",
    "    with futures.ThreadPoolExecutor() as executor:\n",
    "        future_to_study_uid = {}\n",
    "        for instance in content:\n",
    "            study_uid = instance[study_instance_uid_tag][value_key][0]\n",
    "            series_uid = instance[series_instance_uid_tag][value_key][0]\n",
    "            instance_uid = instance[sop_instance_uid_tag][value_key][0]\n",
    "            future = executor.submit(download_instance, dicom_web_url, dicom_store_id,\n",
    "                                     study_uid, series_uid, instance_uid, credentials)\n",
    "            future_to_study_uid[future] = study_uid\n",
    "        processed_count = 0\n",
    "        for future in futures.as_completed(future_to_study_uid):\n",
    "            try:\n",
    "                future.result()\n",
    "                processed_count += 1\n",
    "                if not processed_count % 100 or processed_count == len(content):\n",
    "                    print('Processed instance %d out of %d' %\n",
    "                          (processed_count, len(content)))\n",
    "            except Exception as e:\n",
    "                print('Failed to download a study. UID: %s \\n exception: %s' %\n",
    "                      (future_to_study_uid[future], e))\n",
    "\n",
    "\n",
    "def main(argv=None):\n",
    "    credentials, _ = google.auth.default()\n",
    "    print('Downloading all instances in %s DICOM store' % TRAIN_DICOM_STORE_ID)\n",
    "    download_all_instances(TRAIN_DICOM_STORE_ID, credentials)\n",
    "    print('Downloading all instances in %s DICOM store' % TEST_DICOM_STORE_ID)\n",
    "    download_all_instances(TEST_DICOM_STORE_ID, credentials)\n",
    "\n",
    "\n",
    "main()"
   ]
  },
  {
   "cell_type": "code",
   "execution_count": null,
   "id": "4d3b6d9d-7603-47f0-b425-77ca655f8dc4",
   "metadata": {},
   "outputs": [],
   "source": []
  }
 ],
 "metadata": {
  "kernelspec": {
   "display_name": "Python 3 (ipykernel)",
   "language": "python",
   "name": "python3"
  },
  "language_info": {
   "codemirror_mode": {
    "name": "ipython",
    "version": 3
   },
   "file_extension": ".py",
   "mimetype": "text/x-python",
   "name": "python",
   "nbconvert_exporter": "python",
   "pygments_lexer": "ipython3",
   "version": "3.10.8"
  }
 },
 "nbformat": 4,
 "nbformat_minor": 5
}
