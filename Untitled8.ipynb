{
 "cells": [
  {
   "cell_type": "code",
   "execution_count": 2,
   "id": "836a74ff",
   "metadata": {},
   "outputs": [
    {
     "name": "stdout",
     "output_type": "stream",
     "text": [
      "Fetching credentials using gcloud\n",
      "Your browser has been opened to visit:\n",
      "\n",
      "    https://accounts.google.com/o/oauth2/auth?response_type=code&client_id=764086051850-6qr4p6gpi6hn506pt8ejuq83di341hur.apps.googleusercontent.com&redirect_uri=http%3A%2F%2Flocalhost%3A8085%2F&scope=https%3A%2F%2Fwww.googleapis.com%2Fauth%2Fearthengine+https%3A%2F%2Fwww.googleapis.com%2Fauth%2Fcloud-platform+https%3A%2F%2Fwww.googleapis.com%2Fauth%2Fdevstorage.full_control+https%3A%2F%2Fwww.googleapis.com%2Fauth%2Faccounts.reauth&state=Yn18jxmZvPhnIOOdjaU5Pte1bseuHq&access_type=offline&code_challenge=DvRxXNUzVP5BZQHj6OQxc5jlO45iPV987t0gWjH93t8&code_challenge_method=S256\n",
      "\n",
      "\n",
      "Credentials saved to file: [/Users/mehdiarat/.config/gcloud/application_default_credentials.json]\n",
      "\n",
      "These credentials will be used by any library that requests Application Default Credentials (ADC).\n",
      "\n",
      "Quota project \"theproject2-403712\" was added to ADC which can be used by Google client libraries for billing and quota. Note that some services may still bill the project owning the resource.\n",
      "\n",
      "Successfully saved authorization token.\n"
     ]
    }
   ],
   "source": [
    "!earthengine authenticate --force"
   ]
  },
  {
   "cell_type": "code",
   "execution_count": 5,
   "id": "c555c7fd",
   "metadata": {},
   "outputs": [
    {
     "name": "stdout",
     "output_type": "stream",
     "text": [
      "Requirement already satisfied: earthengine-api in ./anaconda3/envs/myev/lib/python3.9/site-packages (0.1.419)\n",
      "Requirement already satisfied: google-cloud-storage in ./anaconda3/envs/myev/lib/python3.9/site-packages (from earthengine-api) (2.18.2)\n",
      "Requirement already satisfied: google-api-python-client>=1.12.1 in ./anaconda3/envs/myev/lib/python3.9/site-packages (from earthengine-api) (2.143.0)\n",
      "Requirement already satisfied: google-auth>=1.4.1 in ./anaconda3/envs/myev/lib/python3.9/site-packages (from earthengine-api) (2.34.0)\n",
      "Requirement already satisfied: google-auth-httplib2>=0.0.3 in ./anaconda3/envs/myev/lib/python3.9/site-packages (from earthengine-api) (0.2.0)\n",
      "Requirement already satisfied: httplib2<1dev,>=0.9.2 in ./anaconda3/envs/myev/lib/python3.9/site-packages (from earthengine-api) (0.22.0)\n",
      "Requirement already satisfied: requests in ./anaconda3/envs/myev/lib/python3.9/site-packages (from earthengine-api) (2.32.3)\n",
      "Requirement already satisfied: google-api-core!=2.0.*,!=2.1.*,!=2.2.*,!=2.3.0,<3.0.0.dev0,>=1.31.5 in ./anaconda3/envs/myev/lib/python3.9/site-packages (from google-api-python-client>=1.12.1->earthengine-api) (2.19.2)\n",
      "Requirement already satisfied: uritemplate<5,>=3.0.1 in ./anaconda3/envs/myev/lib/python3.9/site-packages (from google-api-python-client>=1.12.1->earthengine-api) (4.1.1)\n",
      "Requirement already satisfied: cachetools<6.0,>=2.0.0 in ./anaconda3/envs/myev/lib/python3.9/site-packages (from google-auth>=1.4.1->earthengine-api) (4.2.2)\n",
      "Requirement already satisfied: pyasn1-modules>=0.2.1 in ./anaconda3/envs/myev/lib/python3.9/site-packages (from google-auth>=1.4.1->earthengine-api) (0.2.8)\n",
      "Requirement already satisfied: rsa<5,>=3.1.4 in ./anaconda3/envs/myev/lib/python3.9/site-packages (from google-auth>=1.4.1->earthengine-api) (4.7.2)\n",
      "Requirement already satisfied: pyparsing!=3.0.0,!=3.0.1,!=3.0.2,!=3.0.3,<4,>=2.4.2 in ./anaconda3/envs/myev/lib/python3.9/site-packages (from httplib2<1dev,>=0.9.2->earthengine-api) (3.1.2)\n",
      "Requirement already satisfied: google-cloud-core<3.0dev,>=2.3.0 in ./anaconda3/envs/myev/lib/python3.9/site-packages (from google-cloud-storage->earthengine-api) (2.4.1)\n",
      "Requirement already satisfied: google-resumable-media>=2.7.2 in ./anaconda3/envs/myev/lib/python3.9/site-packages (from google-cloud-storage->earthengine-api) (2.7.2)\n",
      "Requirement already satisfied: google-crc32c<2.0dev,>=1.0 in ./anaconda3/envs/myev/lib/python3.9/site-packages (from google-cloud-storage->earthengine-api) (1.6.0)\n",
      "Requirement already satisfied: charset-normalizer<4,>=2 in ./anaconda3/envs/myev/lib/python3.9/site-packages (from requests->earthengine-api) (2.0.4)\n",
      "Requirement already satisfied: idna<4,>=2.5 in ./anaconda3/envs/myev/lib/python3.9/site-packages (from requests->earthengine-api) (3.7)\n",
      "Requirement already satisfied: urllib3<3,>=1.21.1 in ./anaconda3/envs/myev/lib/python3.9/site-packages (from requests->earthengine-api) (2.2.2)\n",
      "Requirement already satisfied: certifi>=2017.4.17 in ./anaconda3/envs/myev/lib/python3.9/site-packages (from requests->earthengine-api) (2024.8.30)\n",
      "Requirement already satisfied: googleapis-common-protos<2.0.dev0,>=1.56.2 in ./anaconda3/envs/myev/lib/python3.9/site-packages (from google-api-core!=2.0.*,!=2.1.*,!=2.2.*,!=2.3.0,<3.0.0.dev0,>=1.31.5->google-api-python-client>=1.12.1->earthengine-api) (1.65.0)\n",
      "Requirement already satisfied: protobuf!=3.20.0,!=3.20.1,!=4.21.0,!=4.21.1,!=4.21.2,!=4.21.3,!=4.21.4,!=4.21.5,<6.0.0.dev0,>=3.19.5 in ./anaconda3/envs/myev/lib/python3.9/site-packages (from google-api-core!=2.0.*,!=2.1.*,!=2.2.*,!=2.3.0,<3.0.0.dev0,>=1.31.5->google-api-python-client>=1.12.1->earthengine-api) (3.20.3)\n",
      "Requirement already satisfied: proto-plus<2.0.0dev,>=1.22.3 in ./anaconda3/envs/myev/lib/python3.9/site-packages (from google-api-core!=2.0.*,!=2.1.*,!=2.2.*,!=2.3.0,<3.0.0.dev0,>=1.31.5->google-api-python-client>=1.12.1->earthengine-api) (1.24.0)\n",
      "Requirement already satisfied: pyasn1<0.5.0,>=0.4.6 in ./anaconda3/envs/myev/lib/python3.9/site-packages (from pyasn1-modules>=0.2.1->google-auth>=1.4.1->earthengine-api) (0.4.8)\n"
     ]
    }
   ],
   "source": [
    "!pip install earthengine-api"
   ]
  },
  {
   "cell_type": "code",
   "execution_count": 1,
   "id": "493b225e",
   "metadata": {},
   "outputs": [
    {
     "name": "stdout",
     "output_type": "stream",
     "text": [
      "Name: earthengine-api\n",
      "Version: 0.1.419\n",
      "Summary: Earth Engine Python API\n",
      "Home-page: http://code.google.com/p/earthengine-api\n",
      "Author: \n",
      "Author-email: Google LLC <noreply@google.com>\n",
      "License: Apache-2.0\n",
      "Location: /Users/mehdiarat/anaconda3/envs/myev/lib/python3.9/site-packages\n",
      "Requires: google-api-python-client, google-auth, google-auth-httplib2, google-cloud-storage, httplib2, requests\n",
      "Required-by: \n"
     ]
    }
   ],
   "source": [
    "!pip show earthengine-api"
   ]
  },
  {
   "cell_type": "code",
   "execution_count": 2,
   "id": "3b456918",
   "metadata": {},
   "outputs": [],
   "source": [
    "import ee"
   ]
  },
  {
   "cell_type": "code",
   "execution_count": 10,
   "id": "ff00744f",
   "metadata": {},
   "outputs": [],
   "source": [
    "ee.Authenticate()\n",
    "ee.Initialize(project='ee-mirac1200')\n",
    "\n",
    "\n"
   ]
  },
  {
   "cell_type": "code",
   "execution_count": 9,
   "id": "bcdf80d3",
   "metadata": {},
   "outputs": [
    {
     "ename": "EEException",
     "evalue": "Not signed up for Earth Engine or project is not registered. Visit https://developers.google.com/earth-engine/guides/access",
     "output_type": "error",
     "traceback": [
      "\u001b[0;31m---------------------------------------------------------------------------\u001b[0m",
      "\u001b[0;31mHttpError\u001b[0m                                 Traceback (most recent call last)",
      "File \u001b[0;32m~/anaconda3/envs/myev/lib/python3.9/site-packages/ee/data.py:406\u001b[0m, in \u001b[0;36m_execute_cloud_call\u001b[0;34m(call, num_retries)\u001b[0m\n\u001b[1;32m    405\u001b[0m \u001b[38;5;28;01mtry\u001b[39;00m:\n\u001b[0;32m--> 406\u001b[0m   \u001b[38;5;28;01mreturn\u001b[39;00m \u001b[43mcall\u001b[49m\u001b[38;5;241;43m.\u001b[39;49m\u001b[43mexecute\u001b[49m\u001b[43m(\u001b[49m\u001b[43mnum_retries\u001b[49m\u001b[38;5;241;43m=\u001b[39;49m\u001b[43mnum_retries\u001b[49m\u001b[43m)\u001b[49m\n\u001b[1;32m    407\u001b[0m \u001b[38;5;28;01mexcept\u001b[39;00m googleapiclient\u001b[38;5;241m.\u001b[39merrors\u001b[38;5;241m.\u001b[39mHttpError \u001b[38;5;28;01mas\u001b[39;00m e:\n",
      "File \u001b[0;32m~/anaconda3/envs/myev/lib/python3.9/site-packages/googleapiclient/_helpers.py:130\u001b[0m, in \u001b[0;36mpositional.<locals>.positional_decorator.<locals>.positional_wrapper\u001b[0;34m(*args, **kwargs)\u001b[0m\n\u001b[1;32m    129\u001b[0m         logger\u001b[38;5;241m.\u001b[39mwarning(message)\n\u001b[0;32m--> 130\u001b[0m \u001b[38;5;28;01mreturn\u001b[39;00m \u001b[43mwrapped\u001b[49m\u001b[43m(\u001b[49m\u001b[38;5;241;43m*\u001b[39;49m\u001b[43margs\u001b[49m\u001b[43m,\u001b[49m\u001b[43m \u001b[49m\u001b[38;5;241;43m*\u001b[39;49m\u001b[38;5;241;43m*\u001b[39;49m\u001b[43mkwargs\u001b[49m\u001b[43m)\u001b[49m\n",
      "File \u001b[0;32m~/anaconda3/envs/myev/lib/python3.9/site-packages/googleapiclient/http.py:938\u001b[0m, in \u001b[0;36mHttpRequest.execute\u001b[0;34m(self, http, num_retries)\u001b[0m\n\u001b[1;32m    937\u001b[0m \u001b[38;5;28;01mif\u001b[39;00m resp\u001b[38;5;241m.\u001b[39mstatus \u001b[38;5;241m>\u001b[39m\u001b[38;5;241m=\u001b[39m \u001b[38;5;241m300\u001b[39m:\n\u001b[0;32m--> 938\u001b[0m     \u001b[38;5;28;01mraise\u001b[39;00m HttpError(resp, content, uri\u001b[38;5;241m=\u001b[39m\u001b[38;5;28mself\u001b[39m\u001b[38;5;241m.\u001b[39muri)\n\u001b[1;32m    939\u001b[0m \u001b[38;5;28;01mreturn\u001b[39;00m \u001b[38;5;28mself\u001b[39m\u001b[38;5;241m.\u001b[39mpostproc(resp, content)\n",
      "\u001b[0;31mHttpError\u001b[0m: <HttpError 403 when requesting https://earthengine.googleapis.com/v1/projects/verim-434612/algorithms?prettyPrint=false&alt=json returned \"Not signed up for Earth Engine or project is not registered. Visit https://developers.google.com/earth-engine/guides/access\". Details: \"Not signed up for Earth Engine or project is not registered. Visit https://developers.google.com/earth-engine/guides/access\">",
      "\nDuring handling of the above exception, another exception occurred:\n",
      "\u001b[0;31mEEException\u001b[0m                               Traceback (most recent call last)",
      "Cell \u001b[0;32mIn[9], line 14\u001b[0m\n\u001b[1;32m     11\u001b[0m credentials \u001b[38;5;241m=\u001b[39m service_account\u001b[38;5;241m.\u001b[39mCredentials\u001b[38;5;241m.\u001b[39mfrom_service_account_file(key_file, scopes\u001b[38;5;241m=\u001b[39mscopes)\n\u001b[1;32m     13\u001b[0m \u001b[38;5;66;03m# Initialize Earth Engine with the credentials\u001b[39;00m\n\u001b[0;32m---> 14\u001b[0m \u001b[43mee\u001b[49m\u001b[38;5;241;43m.\u001b[39;49m\u001b[43mInitialize\u001b[49m\u001b[43m(\u001b[49m\u001b[43mcredentials\u001b[49m\u001b[43m)\u001b[49m\n",
      "File \u001b[0;32m~/anaconda3/envs/myev/lib/python3.9/site-packages/ee/_utils.py:38\u001b[0m, in \u001b[0;36maccept_opt_prefix.<locals>.opt_fixed.<locals>.wrapper\u001b[0;34m(*args, **kwargs)\u001b[0m\n\u001b[1;32m     36\u001b[0m     \u001b[38;5;28;01mif\u001b[39;00m new_key \u001b[38;5;129;01mnot\u001b[39;00m \u001b[38;5;129;01min\u001b[39;00m kwargs:\n\u001b[1;32m     37\u001b[0m       kwargs[new_key] \u001b[38;5;241m=\u001b[39m old_key_val\n\u001b[0;32m---> 38\u001b[0m \u001b[38;5;28;01mreturn\u001b[39;00m \u001b[43mfunc\u001b[49m\u001b[43m(\u001b[49m\u001b[38;5;241;43m*\u001b[39;49m\u001b[43margs\u001b[49m\u001b[43m,\u001b[49m\u001b[43m \u001b[49m\u001b[38;5;241;43m*\u001b[39;49m\u001b[38;5;241;43m*\u001b[39;49m\u001b[43mkwargs\u001b[49m\u001b[43m)\u001b[49m\n",
      "File \u001b[0;32m~/anaconda3/envs/myev/lib/python3.9/site-packages/ee/__init__.py:182\u001b[0m, in \u001b[0;36mInitialize\u001b[0;34m(credentials, url, cloud_api_key, http_transport, project)\u001b[0m\n\u001b[1;32m    180\u001b[0m   \u001b[38;5;28;01mif\u001b[39;00m (adc_err \u001b[38;5;129;01min\u001b[39;00m \u001b[38;5;28mstr\u001b[39m(e)) \u001b[38;5;129;01mor\u001b[39;00m (matches \u001b[38;5;129;01mand\u001b[39;00m oauth\u001b[38;5;241m.\u001b[39mis_sdk_project(matches[\u001b[38;5;241m1\u001b[39m])):\n\u001b[1;32m    181\u001b[0m     \u001b[38;5;28;01mraise\u001b[39;00m EEException(NO_PROJECT_EXCEPTION) \u001b[38;5;28;01mfrom\u001b[39;00m \u001b[38;5;28;01mNone\u001b[39;00m\n\u001b[0;32m--> 182\u001b[0m   \u001b[38;5;28;01mraise\u001b[39;00m e\n\u001b[1;32m    183\u001b[0m Array\u001b[38;5;241m.\u001b[39minitialize()\n\u001b[1;32m    184\u001b[0m Blob\u001b[38;5;241m.\u001b[39minitialize()\n",
      "File \u001b[0;32m~/anaconda3/envs/myev/lib/python3.9/site-packages/ee/__init__.py:173\u001b[0m, in \u001b[0;36mInitialize\u001b[0;34m(credentials, url, cloud_api_key, http_transport, project)\u001b[0m\n\u001b[1;32m    171\u001b[0m \u001b[38;5;66;03m# Initialize the dynamically loaded functions on the objects that want them.\u001b[39;00m\n\u001b[1;32m    172\u001b[0m \u001b[38;5;28;01mtry\u001b[39;00m:\n\u001b[0;32m--> 173\u001b[0m   \u001b[43mApiFunction\u001b[49m\u001b[38;5;241;43m.\u001b[39;49m\u001b[43minitialize\u001b[49m\u001b[43m(\u001b[49m\u001b[43m)\u001b[49m\n\u001b[1;32m    174\u001b[0m \u001b[38;5;28;01mexcept\u001b[39;00m EEException \u001b[38;5;28;01mas\u001b[39;00m e:\n\u001b[1;32m    175\u001b[0m   \u001b[38;5;66;03m# We tried to detect missing projects before initialization, but some cases\u001b[39;00m\n\u001b[1;32m    176\u001b[0m   \u001b[38;5;66;03m# like Colab hide the project, so check errors from missing projects too.\u001b[39;00m\n\u001b[1;32m    177\u001b[0m   adc_err \u001b[38;5;241m=\u001b[39m \u001b[38;5;124m'\u001b[39m\u001b[38;5;124mauthenticating by using local Application Default Credentials\u001b[39m\u001b[38;5;124m'\u001b[39m\n",
      "File \u001b[0;32m~/anaconda3/envs/myev/lib/python3.9/site-packages/ee/apifunction.py:161\u001b[0m, in \u001b[0;36mApiFunction.initialize\u001b[0;34m(cls)\u001b[0m\n\u001b[1;32m    159\u001b[0m \u001b[38;5;250m\u001b[39m\u001b[38;5;124;03m\"\"\"Initializes the list of signatures from the Earth Engine front-end.\"\"\"\u001b[39;00m\n\u001b[1;32m    160\u001b[0m \u001b[38;5;28;01mif\u001b[39;00m \u001b[38;5;129;01mnot\u001b[39;00m \u001b[38;5;28mcls\u001b[39m\u001b[38;5;241m.\u001b[39m_api:\n\u001b[0;32m--> 161\u001b[0m   signatures \u001b[38;5;241m=\u001b[39m \u001b[43mdata\u001b[49m\u001b[38;5;241;43m.\u001b[39;49m\u001b[43mgetAlgorithms\u001b[49m\u001b[43m(\u001b[49m\u001b[43m)\u001b[49m\n\u001b[1;32m    162\u001b[0m   api \u001b[38;5;241m=\u001b[39m {}\n\u001b[1;32m    163\u001b[0m   \u001b[38;5;28;01mfor\u001b[39;00m name, sig \u001b[38;5;129;01min\u001b[39;00m signatures\u001b[38;5;241m.\u001b[39mitems():\n\u001b[1;32m    164\u001b[0m     \u001b[38;5;66;03m# Strip type parameters.\u001b[39;00m\n",
      "File \u001b[0;32m~/anaconda3/envs/myev/lib/python3.9/site-packages/ee/data.py:1497\u001b[0m, in \u001b[0;36mgetAlgorithms\u001b[0;34m()\u001b[0m\n\u001b[1;32m   1492\u001b[0m     \u001b[38;5;28mprint\u001b[39m(\n\u001b[1;32m   1493\u001b[0m         \u001b[38;5;124m'\u001b[39m\u001b[38;5;124m*** Earth Engine ***\u001b[39m\u001b[38;5;124m'\u001b[39m,\n\u001b[1;32m   1494\u001b[0m         response[_INIT_MESSAGE_HEADER],\n\u001b[1;32m   1495\u001b[0m         file\u001b[38;5;241m=\u001b[39msys\u001b[38;5;241m.\u001b[39mstderr)\n\u001b[1;32m   1496\u001b[0m call\u001b[38;5;241m.\u001b[39madd_response_callback(inspect)\n\u001b[0;32m-> 1497\u001b[0m \u001b[38;5;28;01mreturn\u001b[39;00m _cloud_api_utils\u001b[38;5;241m.\u001b[39mconvert_algorithms(\u001b[43m_execute_cloud_call\u001b[49m\u001b[43m(\u001b[49m\u001b[43mcall\u001b[49m\u001b[43m)\u001b[49m)\n",
      "File \u001b[0;32m~/anaconda3/envs/myev/lib/python3.9/site-packages/ee/data.py:408\u001b[0m, in \u001b[0;36m_execute_cloud_call\u001b[0;34m(call, num_retries)\u001b[0m\n\u001b[1;32m    406\u001b[0m   \u001b[38;5;28;01mreturn\u001b[39;00m call\u001b[38;5;241m.\u001b[39mexecute(num_retries\u001b[38;5;241m=\u001b[39mnum_retries)\n\u001b[1;32m    407\u001b[0m \u001b[38;5;28;01mexcept\u001b[39;00m googleapiclient\u001b[38;5;241m.\u001b[39merrors\u001b[38;5;241m.\u001b[39mHttpError \u001b[38;5;28;01mas\u001b[39;00m e:\n\u001b[0;32m--> 408\u001b[0m   \u001b[38;5;28;01mraise\u001b[39;00m _translate_cloud_exception(e)\n",
      "\u001b[0;31mEEException\u001b[0m: Not signed up for Earth Engine or project is not registered. Visit https://developers.google.com/earth-engine/guides/access"
     ]
    }
   ],
   "source": [
    "import ee\n",
    "from google.oauth2 import service_account\n",
    "\n",
    "# Path to your service account JSON key file\n",
    "key_file = '/Users/mehdiarat/Downloads/verim-434612-508b515b7658.json'\n",
    "\n",
    "# Define the scope for Earth Engine API\n",
    "scopes = ['https://www.googleapis.com/auth/earthengine']\n",
    "\n",
    "# Authenticate using the service account and the defined scopes\n",
    "credentials = service_account.Credentials.from_service_account_file(key_file, scopes=scopes)\n",
    "\n",
    "# Initialize Earth Engine with the credentials\n",
    "ee.Initialize(credentials)"
   ]
  },
  {
   "cell_type": "code",
   "execution_count": null,
   "id": "3922ef4b-1492-4df8-b01c-2ee442636b07",
   "metadata": {},
   "outputs": [],
   "source": []
  }
 ],
 "metadata": {
  "kernelspec": {
   "display_name": "Python 3 (ipykernel)",
   "language": "python",
   "name": "python3"
  },
  "language_info": {
   "codemirror_mode": {
    "name": "ipython",
    "version": 3
   },
   "file_extension": ".py",
   "mimetype": "text/x-python",
   "name": "python",
   "nbconvert_exporter": "python",
   "pygments_lexer": "ipython3",
   "version": "3.11.5"
  }
 },
 "nbformat": 4,
 "nbformat_minor": 5
}
