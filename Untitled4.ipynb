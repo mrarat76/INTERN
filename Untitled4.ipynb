{
 "cells": [
  {
   "cell_type": "code",
   "execution_count": 10,
   "id": "1aa41d40-f9be-45ad-82de-f2fc1eb742ac",
   "metadata": {},
   "outputs": [],
   "source": [
    "from ultralytics import YOLO\n",
    "import torch\n",
    "import cv2"
   ]
  },
  {
   "cell_type": "code",
   "execution_count": 22,
   "id": "530a8c50-3a54-45e7-8fee-9d0845d44399",
   "metadata": {},
   "outputs": [
    {
     "name": "stdout",
     "output_type": "stream",
     "text": [
      "\n",
      "image 1/1 /Users/mehdiarat/Downloads/bok.jpeg: 480x640 3 licences, 20.9ms\n",
      "Speed: 1.3ms preprocess, 20.9ms inference, 90.3ms postprocess per image at shape (1, 3, 480, 640)\n",
      "Results saved to \u001b[1mruns/detect/predict16\u001b[0m\n"
     ]
    }
   ],
   "source": [
    "# Set the device\n",
    "device = torch.device(\"mps\" if torch.backends.mps.is_available() else \"cpu\")\n",
    "\n",
    "# Load the trained YOLO model with the saved weights\n",
    "model = YOLO('runs/detect/train25/weights/best.pt')\n",
    "model.to(device)\n",
    "\n",
    "# Perform predictions on your images\n",
    "results = model.predict(source='/Users/mehdiarat/Downloads/bok.jpeg', save=True, verbose=True)\n",
    "\n",
    "# Load the image using OpenCV\n",
    "image_path = '/Users/mehdiarat/Downloads/bok.jpeg'\n",
    "image = cv2.imread(image_path)\n",
    "\n",
    "boklar = []\n",
    "\n",
    "# Iterate over the results and draw bounding boxes with labels\n",
    "for result in results:\n",
    "    for box in result.boxes:  # Iterate over the detected boxes\n",
    "        x1, y1, x2, y2 = map(int, box.xyxy[0])  # Bounding box coordinates\n",
    "        label = box.cls  # Class label\n",
    "        confidence = box.conf[0]  # Confidence score\n",
    "\n",
    "        # Draw the bounding box\n",
    "        cv2.rectangle(image, (x1, y1), (x2, y2), (0, 255, 0), 2)\n",
    "\n",
    "        # Create the label with the class name and confidence score\n",
    "        label_text = f'{label} {confidence:.2f}'\n",
    "        label_size, _ = cv2.getTextSize(label_text, cv2.FONT_HERSHEY_SIMPLEX, 0.5, 2)\n",
    "        label_y = max(y1, label_size[1] + 10)\n",
    "        cv2.rectangle(image, (x1, label_y - label_size[1] - 10), (x1 + label_size[0], label_y + 5), (0, 255, 0), cv2.FILLED)\n",
    "        cv2.putText(image, label_text, (x1, label_y - 7), cv2.FONT_HERSHEY_SIMPLEX, 0.5, (0, 0, 0), 2)\n",
    "        boklar.append(box)"
   ]
  },
  {
   "cell_type": "code",
   "execution_count": 25,
   "id": "fba5eb00-fe30-41cb-bd47-8e5269bf2d86",
   "metadata": {},
   "outputs": [
    {
     "ename": "error",
     "evalue": "OpenCV(4.10.0) :-1: error: (-5:Bad argument) in function 'imshow'\n> Overload resolution failed:\n>  - mat is not a numpy array, neither a scalar\n>  - Expected Ptr<cv::cuda::GpuMat> for argument 'mat'\n>  - Expected Ptr<cv::UMat> for argument 'mat'\n",
     "output_type": "error",
     "traceback": [
      "\u001b[0;31m---------------------------------------------------------------------------\u001b[0m",
      "\u001b[0;31merror\u001b[0m                                     Traceback (most recent call last)",
      "Cell \u001b[0;32mIn[25], line 2\u001b[0m\n\u001b[1;32m      1\u001b[0m \u001b[38;5;66;03m# Display the image with bounding boxes\u001b[39;00m\n\u001b[0;32m----> 2\u001b[0m \u001b[43mcv2\u001b[49m\u001b[38;5;241;43m.\u001b[39;49m\u001b[43mimshow\u001b[49m\u001b[43m(\u001b[49m\u001b[38;5;124;43m'\u001b[39;49m\u001b[38;5;124;43mYOLO Predictions\u001b[39;49m\u001b[38;5;124;43m'\u001b[39;49m\u001b[43m,\u001b[49m\u001b[43m \u001b[49m\u001b[43mboklar\u001b[49m\u001b[43m[\u001b[49m\u001b[38;5;241;43m0\u001b[39;49m\u001b[43m]\u001b[49m\u001b[38;5;241;43m.\u001b[39;49m\u001b[43mdata\u001b[49m\u001b[43m)\u001b[49m\n\u001b[1;32m      3\u001b[0m cv2\u001b[38;5;241m.\u001b[39mwaitKey(\u001b[38;5;241m0\u001b[39m)\n\u001b[1;32m      4\u001b[0m cv2\u001b[38;5;241m.\u001b[39mdestroyAllWindows()\n",
      "\u001b[0;31merror\u001b[0m: OpenCV(4.10.0) :-1: error: (-5:Bad argument) in function 'imshow'\n> Overload resolution failed:\n>  - mat is not a numpy array, neither a scalar\n>  - Expected Ptr<cv::cuda::GpuMat> for argument 'mat'\n>  - Expected Ptr<cv::UMat> for argument 'mat'\n"
     ]
    }
   ],
   "source": [
    "# Display the image with bounding boxes\n",
    "cv2.imshow('YOLO Predictions', boklar[0].data)\n",
    "cv2.waitKey(0)\n",
    "cv2.destroyAllWindows()\n",
    "\n",
    "# Optionally, save the image with bounding boxes\n",
    "output_path = 'runs/predict/exp/IMG_0505_with_boxes.jpg'\n",
    "cv2.imwrite(output_path, image)"
   ]
  },
  {
   "cell_type": "code",
   "execution_count": 24,
   "id": "b5297707-0ede-48ac-86ce-568e543ac317",
   "metadata": {},
   "outputs": [
    {
     "name": "stdout",
     "output_type": "stream",
     "text": [
      "<class 'list'>\n",
      "['__add__', '__class__', '__class_getitem__', '__contains__', '__delattr__', '__delitem__', '__dir__', '__doc__', '__eq__', '__format__', '__ge__', '__getattribute__', '__getitem__', '__gt__', '__hash__', '__iadd__', '__imul__', '__init__', '__init_subclass__', '__iter__', '__le__', '__len__', '__lt__', '__mul__', '__ne__', '__new__', '__reduce__', '__reduce_ex__', '__repr__', '__reversed__', '__rmul__', '__setattr__', '__setitem__', '__sizeof__', '__str__', '__subclasshook__', 'append', 'clear', 'copy', 'count', 'extend', 'index', 'insert', 'pop', 'remove', 'reverse', 'sort']\n",
      "[ultralytics.engine.results.Boxes object with attributes:\n",
      "\n",
      "cls: tensor([0.], device='mps:0')\n",
      "conf: tensor([0.5361], device='mps:0')\n",
      "data: tensor([[5.1096e+02, 3.1829e+02, 5.8890e+02, 3.3633e+02, 5.3607e-01, 0.0000e+00]], device='mps:0')\n",
      "id: None\n",
      "is_track: False\n",
      "orig_shape: (480, 640)\n",
      "shape: torch.Size([1, 6])\n",
      "xywh: tensor([[549.9341, 327.3095,  77.9415,  18.0335]], device='mps:0')\n",
      "xywhn: tensor([[0.8593, 0.6819, 0.1218, 0.0376]], device='mps:0')\n",
      "xyxy: tensor([[510.9633, 318.2928, 588.9048, 336.3263]], device='mps:0')\n",
      "xyxyn: tensor([[0.7984, 0.6631, 0.9202, 0.7007]], device='mps:0'), ultralytics.engine.results.Boxes object with attributes:\n",
      "\n",
      "cls: tensor([0.], device='mps:0')\n",
      "conf: tensor([0.4468], device='mps:0')\n",
      "data: tensor([[284.4955, 313.5844, 355.5223, 331.7347,   0.4468,   0.0000]], device='mps:0')\n",
      "id: None\n",
      "is_track: False\n",
      "orig_shape: (480, 640)\n",
      "shape: torch.Size([1, 6])\n",
      "xywh: tensor([[320.0089, 322.6595,  71.0267,  18.1504]], device='mps:0')\n",
      "xywhn: tensor([[0.5000, 0.6722, 0.1110, 0.0378]], device='mps:0')\n",
      "xyxy: tensor([[284.4955, 313.5844, 355.5223, 331.7347]], device='mps:0')\n",
      "xyxyn: tensor([[0.4445, 0.6533, 0.5555, 0.6911]], device='mps:0'), ultralytics.engine.results.Boxes object with attributes:\n",
      "\n",
      "cls: tensor([0.], device='mps:0')\n",
      "conf: tensor([0.4248], device='mps:0')\n",
      "data: tensor([[ 28.2538, 313.9445, 111.1494, 332.8051,   0.4248,   0.0000]], device='mps:0')\n",
      "id: None\n",
      "is_track: False\n",
      "orig_shape: (480, 640)\n",
      "shape: torch.Size([1, 6])\n",
      "xywh: tensor([[ 69.7016, 323.3748,  82.8956,  18.8606]], device='mps:0')\n",
      "xywhn: tensor([[0.1089, 0.6737, 0.1295, 0.0393]], device='mps:0')\n",
      "xyxy: tensor([[ 28.2538, 313.9445, 111.1494, 332.8051]], device='mps:0')\n",
      "xyxyn: tensor([[0.0441, 0.6541, 0.1737, 0.6933]], device='mps:0')]\n"
     ]
    }
   ],
   "source": [
    "print(type(results))\n",
    "print(dir(results))\n",
    "print(boklar)  # If it's an object with attributes stored in a dictionary\n",
    "\n"
   ]
  },
  {
   "cell_type": "code",
   "execution_count": null,
   "id": "dc7e690b-5267-4ad7-b71d-8029720b03c8",
   "metadata": {},
   "outputs": [],
   "source": []
  }
 ],
 "metadata": {
  "kernelspec": {
   "display_name": "Python 3 (ipykernel)",
   "language": "python",
   "name": "python3"
  },
  "language_info": {
   "codemirror_mode": {
    "name": "ipython",
    "version": 3
   },
   "file_extension": ".py",
   "mimetype": "text/x-python",
   "name": "python",
   "nbconvert_exporter": "python",
   "pygments_lexer": "ipython3",
   "version": "3.10.8"
  }
 },
 "nbformat": 4,
 "nbformat_minor": 5
}
